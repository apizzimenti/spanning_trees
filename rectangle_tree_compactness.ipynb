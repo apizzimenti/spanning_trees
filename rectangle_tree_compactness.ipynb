{
 "cells": [
  {
   "cell_type": "code",
   "execution_count": 48,
   "metadata": {},
   "outputs": [],
   "source": [
    "import networkx as nx\n",
    "import numpy as np\n",
    "import math\n",
    "from tqdm import tqdm"
   ]
  },
  {
   "cell_type": "code",
   "execution_count": 67,
   "metadata": {},
   "outputs": [],
   "source": [
    "def divisorGen(n):\n",
    "    large_divisors = []\n",
    "    for i in range(1, n+1):\n",
    "        if n % i == 0:\n",
    "            yield i\n",
    "            \n",
    "\n",
    "def number_spanning_tree(G):\n",
    "    spectrum = nx.laplacian_spectrum(G)\n",
    "    non_zero_spect = np.delete(spectrum, 0)\n",
    "\n",
    "    return np.sum(np.log(non_zero_spect))"
   ]
  },
  {
   "cell_type": "code",
   "execution_count": 68,
   "metadata": {},
   "outputs": [
    {
     "name": "stderr",
     "output_type": "stream",
     "text": [
      "25it [00:06,  4.05it/s]\n"
     ]
    },
    {
     "data": {
      "text/plain": [
       "[(7.167037877044891, (1, 1296)),\n",
       " (859.3133017593507, (2, 648)),\n",
       " (1097.4643449254295, (3, 432)),\n",
       " (1208.382063067321, (4, 324)),\n",
       " (1313.4776991930412, (6, 216)),\n",
       " (1363.3036527063937, (8, 162)),\n",
       " (1379.3433521500929, (9, 144)),\n",
       " (1410.120368765693, (12, 108)),\n",
       " (1431.2798798545123, (16, 81)),\n",
       " (1437.6689257726775, (18, 72)),\n",
       " (1448.5598980874413, (24, 54)),\n",
       " (1451.2687729353925, (27, 48)),\n",
       " (1453.9708443402724, (36, 36)),\n",
       " (1451.268772935392, (48, 27)),\n",
       " (1448.5598980874433, (54, 24)),\n",
       " (1437.668925772677, (72, 18)),\n",
       " (1431.2798798545102, (81, 16)),\n",
       " (1410.1203687656885, (108, 12)),\n",
       " (1379.3433521501033, (144, 9)),\n",
       " (1363.3036527064, (162, 8)),\n",
       " (1313.4776991930657, (216, 6)),\n",
       " (1208.3820630672913, (324, 4)),\n",
       " (1097.464344925423, (432, 3)),\n",
       " (859.3133017592672, (648, 2)),\n",
       " (7.167037877044891, (1296, 1))]"
      ]
     },
     "execution_count": 68,
     "metadata": {},
     "output_type": "execute_result"
    }
   ],
   "source": [
    "sqrt_n = 36\n",
    "n = sqrt_n**2\n",
    "\n",
    "\n",
    "rectangle_compactness = []\n",
    "for k in tqdm(divisorGen(n)):\n",
    "    if n != sqrt_n:\n",
    "        G = nx.grid_2d_graph(k, int(n/k))\n",
    "        rectangle_compactness.append( (number_spanning_tree(G),(k, int(n/k)) ) ) \n",
    "\n",
    "rectangle_compactness"
   ]
  },
  {
   "cell_type": "code",
   "execution_count": 72,
   "metadata": {},
   "outputs": [
    {
     "data": {
      "image/png": "[encoded data removed]",
      "text/plain": [
       "<Figure size 432x288 with 1 Axes>"
      ]
     },
     "metadata": {},
     "output_type": "display_data"
    }
   ],
   "source": [
    "import matplotlib.pyplot as plt\n",
    "\n",
    "rectangles = [rectangle_compactness[i][0] for i in range(len(rectangle_compactness))]\n",
    "\n",
    "# plt.figure(figsize=10)\n",
    "plt.plot(rectangles)\n",
    "plt.show()"
   ]
  }
 ],
 "metadata": {
  "kernelspec": {
   "display_name": "Python 3",
   "language": "python",
   "name": "python3"
  },
  "language_info": {
   "codemirror_mode": {
    "name": "ipython",
    "version": 3
   },
   "file_extension": ".py",
   "mimetype": "text/x-python",
   "name": "python",
   "nbconvert_exporter": "python",
   "pygments_lexer": "ipython3",
   "version": "3.6.5"
  }
 },
 "nbformat": 4,
 "nbformat_minor": 2
}
