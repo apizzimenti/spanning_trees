{
 "cells": [
  {
   "cell_type": "code",
   "execution_count": 1,
   "metadata": {},
   "outputs": [],
   "source": [
    "import networkx\n",
    "import json\n",
    "import networkx as nx\n",
    "\n",
    "state = 19\n",
    "\n",
    "with open(\"../vtd-adjacency-graphs-master/vtd-adjacency-graphs/\"+str(state)+\"/rook.json\") as f:\n",
    "    data = json.load(f)\n",
    "\n",
    "graph = nx.readwrite.json_graph.adjacency_graph(data)\n",
    "\n",
    "import glob\n",
    "import pandas as pd\n",
    "\n",
    "allFiles = glob.glob(\"../zach_graphs/spatial_indexes/\"+str(state)+\"_*_idx.txt\")\n",
    "frame = pd.DataFrame()\n",
    "list_ = []\n",
    "for file_ in allFiles:\n",
    "    df = pd.read_csv(file_,index_col=None, header=None)\n",
    "    list_.append(df)\n",
    "frame = pd.concat(list_)\n",
    "\n",
    "df = frame.rename(index=str, columns={0 : \"GEOID\", 1: \"xaxis\", 2:\"yaxis\"})\n",
    "pos = df.set_index('GEOID').T.to_dict('list')\n",
    "pos = {str(i) : (pos[i][0], pos[i][1]) for i in pos.keys()}\n",
    "\n",
    "for node in graph.nodes():\n",
    "    graph.nodes[node][\"geopos\"] = pos[node]\n"
   ]
  },
  {
   "cell_type": "code",
   "execution_count": 2,
   "metadata": {},
   "outputs": [],
   "source": [
    "import matplotlib.pyplot as plt\n",
    "\n",
    "plt.figure(figsize = (10,7))\n",
    "nx.draw(graph, pos = pos, node_size=0)"
   ]
  },
  {
   "cell_type": "code",
   "execution_count": 3,
   "metadata": {},
   "outputs": [
    {
     "data": {
      "text/plain": [
       "True"
      ]
     },
     "execution_count": 3,
     "metadata": {},
     "output_type": "execute_result"
    }
   ],
   "source": [
    "nx.is_connected(graph)"
   ]
  },
  {
   "cell_type": "code",
   "execution_count": null,
   "metadata": {},
   "outputs": [],
   "source": [
    "from main import explore_random\n",
    "\n",
    "explore_random(graph, 1, 4, pictures = True, divide_and_conquer=True)"
   ]
  },
  {
   "cell_type": "code",
   "execution_count": null,
   "metadata": {},
   "outputs": [],
   "source": []
  }
 ],
 "metadata": {
  "kernelspec": {
   "display_name": "Python 3",
   "language": "python",
   "name": "python3"
  },
  "language_info": {
   "codemirror_mode": {
    "name": "ipython",
    "version": 3
   },
   "file_extension": ".py",
   "mimetype": "text/x-python",
   "name": "python",
   "nbconvert_exporter": "python",
   "pygments_lexer": "ipython3",
   "version": "3.6.5"
  }
 },
 "nbformat": 4,
 "nbformat_minor": 2
}
